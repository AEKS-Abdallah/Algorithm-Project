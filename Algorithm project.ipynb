{
 "cells": [
  {
   "cell_type": "code",
   "execution_count": 1,
   "id": "871eb306",
   "metadata": {},
   "outputs": [],
   "source": [
    "# some tries of code \n",
    "        "
   ]
  },
  {
   "cell_type": "code",
   "execution_count": 3,
   "id": "4630300a",
   "metadata": {},
   "outputs": [
    {
     "name": "stdout",
     "output_type": "stream",
     "text": [
      "The optimal profit is 11\n"
     ]
    }
   ],
   "source": [
    "# try 1\n",
    "\n",
    "from functools import cmp_to_key\n",
    " \n",
    "class Job:\n",
    "     \n",
    "    def __init__(self, start, finish, profit):\n",
    "         \n",
    "        self.start = start\n",
    "        self.finish = finish\n",
    "        self.profit = profit\n",
    "\n",
    "def jobComparator(s1, s2):\n",
    "     \n",
    "    return s1.finish < s2.finish\n",
    "\n",
    "def latestNonConflict(arr, i):\n",
    "     \n",
    "    for j in range(i - 1, -1, -1):\n",
    "        if arr[j].finish <= arr[i - 1].start:\n",
    "            return j\n",
    "             \n",
    "    return -1\n",
    "\n",
    "def findMaxProfitRec(arr, n):\n",
    "     \n",
    "    # Base case\n",
    "    if n == 1:\n",
    "        return arr[n - 1].profit\n",
    " \n",
    "    # Find profit when current job is included\n",
    "    inclProf = arr[n - 1].profit\n",
    "    i = latestNonConflict(arr, n)\n",
    "     \n",
    "    if i != -1:\n",
    "        inclProf += findMaxProfitRec(arr, i + 1)\n",
    " \n",
    "    # Find profit when current job is excluded\n",
    "    exclProf = findMaxProfitRec(arr, n - 1)\n",
    "    return max(inclProf, exclProf)\n",
    " \n",
    "# The main function that returns the maximum\n",
    "# possible profit from given array of jobs\n",
    "def findMaxProfit(arr, n):\n",
    "     \n",
    "    # Sort jobs according to finish time\n",
    "    arr = sorted(arr, key = cmp_to_key(jobComparator))\n",
    "    return findMaxProfitRec(arr, n)\n",
    " \n",
    "# Driver code\n",
    "values = [(1, 6, 6), (2, 5, 5),\n",
    "          (5, 7, 5), (6, 8, 3)]\n",
    "arr = []\n",
    "for i in values:\n",
    "    arr.append(Job(i[0], i[1], i[2]))\n",
    "     \n",
    "n = len(arr)\n",
    " \n",
    "print(\"The optimal profit is\", findMaxProfit(arr, n))"
   ]
  },
  {
   "cell_type": "code",
   "execution_count": 4,
   "id": "40495c58",
   "metadata": {},
   "outputs": [
    {
     "name": "stdout",
     "output_type": "stream",
     "text": [
      "The optimal profit is 9\n"
     ]
    }
   ],
   "source": [
    "# try 2\n",
    "from functools import cmp_to_key\n",
    " \n",
    " \n",
    " \n",
    "class Job:\n",
    " \n",
    "    def __init__(self, start, finish, profit):\n",
    " \n",
    "        self.start = start\n",
    "        self.finish = finish\n",
    "        self.profit = profit\n",
    " \n",
    "\n",
    " \n",
    "def jobComparator(s1, s2):\n",
    " \n",
    "    return s1.finish < s2.finish\n",
    " \n",
    "\n",
    " \n",
    " \n",
    "def latestNonConflict(arr, i):\n",
    " \n",
    "    for j in range(i - 1, -1, -1):\n",
    "        if arr[j].finish <= arr[i - 1].start:\n",
    "            return j\n",
    " \n",
    "    return -1\n",
    " \n",
    "\n",
    " \n",
    " \n",
    "def findMaxProfit(arr, n):\n",
    " \n",
    "    # Sort jobs according to finish time\n",
    "    arr = sorted(arr, key=cmp_to_key(jobComparator))\n",
    " \n",
    "    # Create an array to store solutions of subproblems.\n",
    "    # table[i] stores the profit for jobs till arr[i]\n",
    "    # (including arr[i])\n",
    "    table = [None] * n\n",
    "    table[0] = arr[0].profit\n",
    " \n",
    "    # Fill entries in M[] using recursive property\n",
    "    for i in range(1, n):\n",
    " \n",
    "        # Find profit including the current job\n",
    "        inclProf = arr[i].profit\n",
    "        l = latestNonConflict(arr, i)\n",
    " \n",
    "        if l != -1:\n",
    "            inclProf += table[l]\n",
    " \n",
    "        # Store maximum of including and excluding\n",
    "        table[i] = max(inclProf, table[i - 1])\n",
    " \n",
    "    # Store result and free dynamic memory\n",
    "    # allocated for table[]\n",
    "    result = table[n - 1]\n",
    " \n",
    "    return result\n",
    " \n",
    " \n",
    "# Driver code\n",
    "values = [(1, 6, 6), (2, 5, 5),\n",
    "          (5, 7, 5), (6, 8, 3)]\n",
    "arr = []\n",
    "for i in values:\n",
    "    arr.append(Job(i[0], i[1], i[2]))\n",
    " \n",
    "n = len(arr)\n",
    " \n",
    "print(\"The optimal profit is\", findMaxProfit(arr, n))\n",
    " "
   ]
  },
  {
   "cell_type": "code",
   "execution_count": 9,
   "id": "a0ed4ce9",
   "metadata": {},
   "outputs": [],
   "source": [
    "Jobs = [(1, 6, 6), (2, 5, 5), (5, 7, 5), (6, 8, 3)]"
   ]
  },
  {
   "cell_type": "code",
   "execution_count": 27,
   "id": "7fd5bb92",
   "metadata": {},
   "outputs": [],
   "source": [
    "# try 3\n",
    "    def jobschud(start:list[int],end:list[int],profit:list[int])->int:\n",
    "        N=len(start)\n",
    "        jobs=list(zip(start,end,profit))\n",
    "        jobs.sort()\n",
    "        start.sort()\n",
    "        #@lru_cache(None)\n",
    "        def rec(i):\n",
    "            if i == N:return 0\n",
    "            j=i+1\n",
    "            while j<N and jobs[i][1]>jobs[i][0]:\n",
    "                j+=1\n",
    "            #j=bisect_left(start,jobs[i][1])\n",
    "            one=jobs[i][2]+rec(j)\n",
    "            two=rec(i+1)\n",
    "            return max(one,two)\n",
    "        return rec(0)"
   ]
  },
  {
   "cell_type": "code",
   "execution_count": 28,
   "id": "b34bc306",
   "metadata": {},
   "outputs": [
    {
     "data": {
      "text/plain": [
       "6"
      ]
     },
     "execution_count": 28,
     "metadata": {},
     "output_type": "execute_result"
    }
   ],
   "source": [
    "jobschud([1,2,5,6],[6,5,7,8],[6,5,5,3])"
   ]
  },
  {
   "cell_type": "code",
   "execution_count": 39,
   "id": "98f9b24a",
   "metadata": {},
   "outputs": [
    {
     "name": "stdout",
     "output_type": "stream",
     "text": [
      "Optimal profit is\n"
     ]
    },
    {
     "data": {
      "text/plain": [
       "10"
      ]
     },
     "execution_count": 39,
     "metadata": {},
     "output_type": "execute_result"
    }
   ],
   "source": [
    "# try 4\n",
    "class Job:\n",
    "\tdef __init__(self, start, finish, profit):\n",
    "\t\tself.start = start\n",
    "\t\tself.finish = finish\n",
    "\t\tself.profit = profit\n",
    "\n",
    "\n",
    "def binarySearch(job, start_index):\n",
    "\n",
    "\t# Initialize 'lo' and 'hi' for Binary Search\n",
    "\tlo = 0\n",
    "\thi = start_index - 1\n",
    "\n",
    "\t# Perform binary Search iteratively\n",
    "\twhile lo <= hi:\n",
    "\t\tmid = (lo + hi) // 2\n",
    "\t\tif job[mid].finish <= job[start_index].start:\n",
    "\t\t\tif job[mid + 1].finish <= job[start_index].start:\n",
    "\t\t\t\tlo = mid + 1\n",
    "\t\t\telse:\n",
    "\t\t\t\treturn mid\n",
    "\t\telse:\n",
    "\t\t\thi = mid - 1\n",
    "\treturn -1\n",
    "\n",
    "# The main function that returns the maximum possible\n",
    "# profit from given array of jobs\n",
    "def schedule(job):\n",
    "\n",
    "\t# Sort jobs according to finish time\n",
    "\tjob = sorted(job, key = lambda j: j.finish)\n",
    "\n",
    "\t# Create an array to store solutions of subproblems. table[i]\n",
    "\t# stores the profit for jobs till arr[i] (including arr[i])\n",
    "\tn = len(job)\n",
    "\ttable = [0 for _ in range(n)]\n",
    "\n",
    "\ttable[0] = job[0].profit;\n",
    "\n",
    "\t# Fill entries in table[] using recursive property\n",
    "\tfor i in range(1, n):\n",
    "\n",
    "\t\t# Find profit including the current job\n",
    "\t\tinclProf = job[i].profit\n",
    "\t\tl = binarySearch(job, i)\n",
    "\t\tif (l != -1):\n",
    "\t\t\tinclProf += table[l];\n",
    "\n",
    "\t\t# Store maximum of including and excluding\n",
    "\t\ttable[i] = max(inclProf, table[i - 1])\n",
    "\n",
    "\treturn table[n-1]\n",
    "\n",
    "# Driver code to test above function\n",
    "job = [Job(1, 6, 6), Job(2, 5, 5),\n",
    "\tJob(5, 7, 5), Job(6, 8, 3)]\n",
    "print(\"Optimal profit is\") \n",
    "schedule(job)"
   ]
  },
  {
   "cell_type": "code",
   "execution_count": 5,
   "id": "1fbd016c",
   "metadata": {},
   "outputs": [],
   "source": [
    "# try 5\n",
    "# the correct code \n",
    "def interval_scheduling(jobs):\n",
    "    sorted_jobs=sorted(jobs,key=lambda x:x[1])\n",
    "    schedule=[]\n",
    "    max_profit=0\n",
    "    for job in sorted_jobs:\n",
    "        if len(schedule)==0 or job[0]>=schedule[-1][1]:\n",
    "            schedule.append(job)\n",
    "            max_profit+=job[2]\n",
    "    return max_profit , schedule"
   ]
  },
  {
   "cell_type": "code",
   "execution_count": 6,
   "id": "21867b6c",
   "metadata": {},
   "outputs": [
    {
     "data": {
      "text/plain": [
       "(10, [(2, 5, 5), (5, 7, 5)])"
      ]
     },
     "execution_count": 6,
     "metadata": {},
     "output_type": "execute_result"
    }
   ],
   "source": [
    "jobs = [(1, 6, 6), (2, 5, 5),(5, 7, 5), (6, 8, 3)]\n",
    "interval_scheduling(jobs)"
   ]
  }
 ],
 "metadata": {
  "kernelspec": {
   "display_name": "Python 3 (ipykernel)",
   "language": "python",
   "name": "python3"
  },
  "language_info": {
   "codemirror_mode": {
    "name": "ipython",
    "version": 3
   },
   "file_extension": ".py",
   "mimetype": "text/x-python",
   "name": "python",
   "nbconvert_exporter": "python",
   "pygments_lexer": "ipython3",
   "version": "3.9.13"
  }
 },
 "nbformat": 4,
 "nbformat_minor": 5
}
